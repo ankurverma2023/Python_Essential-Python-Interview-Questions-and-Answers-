{
 "cells": [
  {
   "cell_type": "markdown",
   "id": "6b3a54f3",
   "metadata": {},
   "source": [
    "# Basic Interview Questions Python With Examples\n",
    "\n",
    "# Project Name: Comprehensive Python Basics and Concepts"
   ]
  },
  {
   "cell_type": "markdown",
   "id": "18dc1a3b",
   "metadata": {},
   "source": [
    "# what is Python ?\n",
    "\n",
    "Python is a high-level, interpreted programming language known for its simplicity, readability, and versatility. It supports multiple programming paradigms like procedural, object-oriented, and functional programming."
   ]
  },
  {
   "cell_type": "markdown",
   "id": "e0088181",
   "metadata": {},
   "source": [
    "# What are Python's key features?\n",
    "\n",
    "Easy to read and write.\n",
    "Supports object-oriented, procedural, and functional programming paradigms.\n",
    "Dynamically typed (no need to declare variable types).\n",
    "Extensive standard libraries and third-party modules.\n",
    "Cross-platform compatibility.\n",
    "Interpreted language (no compilation needed)."
   ]
  },
  {
   "cell_type": "markdown",
   "id": "2e39e722",
   "metadata": {},
   "source": [
    "# What are lists and tuples in Python?\n",
    "\n",
    "List: A mutable, ordered collection of elements that can be changed after creation.\n",
    "\n",
    "Tuple: An immutable, ordered collection of elements that cannot be modified after creation"
   ]
  },
  {
   "cell_type": "code",
   "execution_count": 1,
   "id": "ff42f04e",
   "metadata": {},
   "outputs": [
    {
     "name": "stdout",
     "output_type": "stream",
     "text": [
      "[1, 10, 3]\n",
      "(1, 2, 3)\n"
     ]
    }
   ],
   "source": [
    "# List Example\n",
    "my_list = [1, 2, 3]\n",
    "my_list[1] = 10  # Modifying a list element\n",
    "print(my_list)  # Output: [1, 10, 3]\n",
    "\n",
    "# Tuple Example\n",
    "my_tuple = (1, 2, 3)\n",
    "# my_tuple[1] = 10  # This will raise a TypeError as tuples are immutable.\n",
    "print(my_tuple)  # Output: (1, 2, 3)\n"
   ]
  },
  {
   "cell_type": "markdown",
   "id": "26aa9236",
   "metadata": {},
   "source": [
    "# What is the difference between append() and extend() in Python?\n",
    "\n",
    "append(): Adds its argument as a single element to the end of a list.\n",
    "    \n",
    "extend(): Iterates over its argument and adds each element to the list."
   ]
  },
  {
   "cell_type": "code",
   "execution_count": 2,
   "id": "d5f38fd1",
   "metadata": {},
   "outputs": [
    {
     "name": "stdout",
     "output_type": "stream",
     "text": [
      "[1, 2, 3, [4, 5]]\n",
      "[1, 2, 3, [4, 5], 6, 7]\n"
     ]
    }
   ],
   "source": [
    "my_list = [1, 2, 3]\n",
    "\n",
    "my_list.append([4, 5])\n",
    "print(my_list)  # Output: [1, 2, 3, [4, 5]]\n",
    "\n",
    "my_list.extend([6, 7])\n",
    "print(my_list)  # Output: [1, 2, 3, [4, 5], 6, 7]\n"
   ]
  },
  {
   "cell_type": "markdown",
   "id": "218a870d",
   "metadata": {},
   "source": [
    "# What is a dictionary in Python?\n",
    "\n",
    " A dictionary is an unordered collection of key-value pairs. It is mutable and indexed by keys, which must be unique"
   ]
  },
  {
   "cell_type": "code",
   "execution_count": 3,
   "id": "ba919d4d",
   "metadata": {},
   "outputs": [
    {
     "name": "stdout",
     "output_type": "stream",
     "text": [
      "John\n",
      "{'name': 'John', 'age': 31}\n"
     ]
    }
   ],
   "source": [
    "my_dict = {\"name\": \"John\", \"age\": 30}\n",
    "print(my_dict[\"name\"])  # Output: John\n",
    "my_dict[\"age\"] = 31  # Modifying value\n",
    "print(my_dict)  # Output: {'name': 'John', 'age': 31}\n"
   ]
  },
  {
   "cell_type": "markdown",
   "id": "56b2945f",
   "metadata": {},
   "source": [
    "# What is a lambda function in Python?\n",
    "\n",
    "A lambda function is a small anonymous function that can have any number of arguments but only one expression"
   ]
  },
  {
   "cell_type": "code",
   "execution_count": 4,
   "id": "0e7bbcc2",
   "metadata": {},
   "outputs": [
    {
     "name": "stdout",
     "output_type": "stream",
     "text": [
      "5\n"
     ]
    }
   ],
   "source": [
    "# Lambda function for adding two numbers\n",
    "add = lambda x, y: x + y\n",
    "print(add(2, 3))  # Output: 5\n"
   ]
  },
  {
   "cell_type": "markdown",
   "id": "dae97cc3",
   "metadata": {},
   "source": [
    "# What is list comprehension in Python?\n",
    "\n",
    " List comprehension is a concise way to create lists in Python. It consists of brackets containing an expression followed by a for clause and can include if conditions as well."
   ]
  },
  {
   "cell_type": "code",
   "execution_count": 5,
   "id": "15543d92",
   "metadata": {},
   "outputs": [
    {
     "name": "stdout",
     "output_type": "stream",
     "text": [
      "[1, 4, 9, 16, 25]\n"
     ]
    }
   ],
   "source": [
    "numbers = [1, 2, 3, 4, 5]\n",
    "squares = [x ** 2 for x in numbers]\n",
    "print(squares)  # Output: [1, 4, 9, 16, 25]\n"
   ]
  },
  {
   "cell_type": "markdown",
   "id": "c664e148",
   "metadata": {},
   "source": [
    "#  What is the difference between is and == in Python?\n",
    "\n",
    "is: Checks if two variables point to the same object in memory (identity comparison).\n",
    "    \n",
    "==: Checks if two variables have the same value (equality comparison)."
   ]
  },
  {
   "cell_type": "code",
   "execution_count": 6,
   "id": "2e4f7dd7",
   "metadata": {},
   "outputs": [
    {
     "name": "stdout",
     "output_type": "stream",
     "text": [
      "True\n",
      "False\n",
      "True\n"
     ]
    }
   ],
   "source": [
    "a = [1, 2, 3]\n",
    "b = a\n",
    "c = [1, 2, 3]\n",
    "\n",
    "print(a == c)  # Output: True (Values are the same)\n",
    "print(a is c)  # Output: False (Different objects)\n",
    "print(a is b)  # Output: True (Same object)\n"
   ]
  },
  {
   "cell_type": "markdown",
   "id": "d74f37ed",
   "metadata": {},
   "source": [
    "# What is exception handling in Python?\n",
    "\n",
    "Exception handling in Python is done using try, except, finally blocks. It is used to manage errors gracefully and execute cleanup code."
   ]
  },
  {
   "cell_type": "code",
   "execution_count": 7,
   "id": "ca6e4eb0",
   "metadata": {},
   "outputs": [
    {
     "name": "stdout",
     "output_type": "stream",
     "text": [
      "Cannot divide by zero\n",
      "Execution complete\n"
     ]
    }
   ],
   "source": [
    "try:\n",
    "    x = 10 / 0\n",
    "except ZeroDivisionError:\n",
    "    print(\"Cannot divide by zero\")\n",
    "finally:\n",
    "    print(\"Execution complete\")\n",
    "\n",
    "# Output:\n",
    "# Cannot divide by zero\n",
    "# Execution complete\n"
   ]
  },
  {
   "cell_type": "markdown",
   "id": "8757963a",
   "metadata": {},
   "source": [
    "# What is the map() function in Python?\n",
    "\n",
    "The map() function applies a given function to all items of an iterable (like a list) and returns a map object (an iterator)."
   ]
  },
  {
   "cell_type": "code",
   "execution_count": 8,
   "id": "a2cdf31e",
   "metadata": {},
   "outputs": [
    {
     "name": "stdout",
     "output_type": "stream",
     "text": [
      "[1, 4, 9, 16]\n"
     ]
    }
   ],
   "source": [
    "def square(x):\n",
    "    return x ** 2\n",
    "\n",
    "numbers = [1, 2, 3, 4]\n",
    "result = map(square, numbers)\n",
    "print(list(result))  # Output: [1, 4, 9, 16]\n"
   ]
  },
  {
   "cell_type": "markdown",
   "id": "d22787f3",
   "metadata": {},
   "source": [
    "# What is a generator in Python?\n",
    "\n",
    "A generator is a function that returns an iterator and is defined using yield instead of return. Each time yield is called, the function's state is saved, and the next value is returned upon the next invocation."
   ]
  },
  {
   "cell_type": "code",
   "execution_count": 9,
   "id": "9913f942",
   "metadata": {},
   "outputs": [
    {
     "name": "stdout",
     "output_type": "stream",
     "text": [
      "1\n",
      "2\n"
     ]
    }
   ],
   "source": [
    "def my_generator():\n",
    "    yield 1\n",
    "    yield 2\n",
    "    yield 3\n",
    "\n",
    "gen = my_generator()\n",
    "print(next(gen))  # Output: 1\n",
    "print(next(gen))  # Output: 2\n"
   ]
  },
  {
   "cell_type": "markdown",
   "id": "8e6f6c52",
   "metadata": {},
   "source": [
    "# What is the difference between a shallow copy and a deep copy in Python?\n",
    "\n",
    "Shallow Copy: Creates a new object but references the original elements (nested objects are not copied).\n",
    "    \n",
    "Deep Copy: Recursively copies all elements, including nested objects, creating a completely independent copy."
   ]
  },
  {
   "cell_type": "code",
   "execution_count": 10,
   "id": "0f1edf03",
   "metadata": {},
   "outputs": [
    {
     "name": "stdout",
     "output_type": "stream",
     "text": [
      "[[99, 2], [3, 4]]\n",
      "[[1, 2], [3, 4]]\n"
     ]
    }
   ],
   "source": [
    "import copy\n",
    "original = [[1, 2], [3, 4]]\n",
    "\n",
    "shallow = copy.copy(original)\n",
    "deep = copy.deepcopy(original)\n",
    "\n",
    "original[0][0] = 99\n",
    "print(shallow)  # Output: [[99, 2], [3, 4]] (Shallow copy affected)\n",
    "print(deep)     # Output: [[1, 2], [3, 4]] (Deep copy unaffected)\n"
   ]
  },
  {
   "cell_type": "markdown",
   "id": "0f54b05c",
   "metadata": {},
   "source": [
    "# What are the different data types in Python?\n",
    "\n",
    "int: Integer values.\n",
    "float: Floating-point numbers.\n",
    "str: String (text).\n",
    "list: Ordered, mutable collection.\n",
    "tuple: Ordered, immutable collection.\n",
    "set: Unordered, mutable collection with no duplicates.\n",
    "dict: Key-value pairs"
   ]
  },
  {
   "cell_type": "code",
   "execution_count": 12,
   "id": "b8b25f98",
   "metadata": {},
   "outputs": [],
   "source": [
    "age = 30  # int\n",
    "height = 5.9  # float\n",
    "name = \"John\"  # str\n",
    "languages = [\"Python\", \"Java\"]  # list\n",
    "location = (\"New York\", \"USA\")  # tuple\n",
    "skills = {\"Python\", \"SQL\"}  # set\n",
    "person = {\"name\": \"John\", \"age\": 30}  # dict\n"
   ]
  },
  {
   "cell_type": "code",
   "execution_count": null,
   "id": "e6cf7169",
   "metadata": {},
   "outputs": [],
   "source": []
  }
 ],
 "metadata": {
  "kernelspec": {
   "display_name": "Python 3 (ipykernel)",
   "language": "python",
   "name": "python3"
  },
  "language_info": {
   "codemirror_mode": {
    "name": "ipython",
    "version": 3
   },
   "file_extension": ".py",
   "mimetype": "text/x-python",
   "name": "python",
   "nbconvert_exporter": "python",
   "pygments_lexer": "ipython3",
   "version": "3.9.13"
  }
 },
 "nbformat": 4,
 "nbformat_minor": 5
}
